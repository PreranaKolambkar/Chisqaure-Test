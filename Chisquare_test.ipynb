{
 "cells": [
  {
   "cell_type": "markdown",
   "id": "f0a1a569-d511-4fa9-a7f8-963c87fc67b6",
   "metadata": {},
   "source": [
    "Objective:\n",
    "To use the Chi-Square test for independence to determine if there's a significant association between the type of smart home device purchased (Smart Thermostats vs. Smart Lights) and the customer satisfaction level.\n"
   ]
  },
  {
   "cell_type": "code",
   "execution_count": 58,
   "id": "391d745e-d254-40a4-b392-77cecaea0218",
   "metadata": {},
   "outputs": [],
   "source": [
    "import pandas as pd\n",
    "\n",
    "\n",
    "data = { \"Satisfaction\": [\"very satisfied\", \"satisfied\", \"neutral\", \"unsatisfied\", \"very unsatisfied\"],\n",
    "    \"Smart Thermostat\": [50, 80, 60, 30, 20],\n",
    "    \"Smart Light\": [70, 100, 90, 50, 50]}\n",
    "                                           # Data for Smart Thermostat and Smart Light"
   ]
  },
  {
   "cell_type": "code",
   "execution_count": 60,
   "id": "d59c1b8c-3152-46cf-954f-47dbff82677f",
   "metadata": {},
   "outputs": [],
   "source": [
    "# Create DataFrame\n",
    "df = pd.DataFrame(data)"
   ]
  },
  {
   "cell_type": "code",
   "execution_count": 62,
   "id": "9208b6ad-3894-413b-be2f-4b639a1a8194",
   "metadata": {},
   "outputs": [],
   "source": [
    "\n",
    "df.set_index(\"Satisfaction\", inplace=True)  ## Set 'Satisfaction' as index"
   ]
  },
  {
   "cell_type": "code",
   "execution_count": 64,
   "id": "4be61854-0b8f-42f4-9967-9fb383af46de",
   "metadata": {},
   "outputs": [
    {
     "data": {
      "text/html": [
       "<div>\n",
       "<style scoped>\n",
       "    .dataframe tbody tr th:only-of-type {\n",
       "        vertical-align: middle;\n",
       "    }\n",
       "\n",
       "    .dataframe tbody tr th {\n",
       "        vertical-align: top;\n",
       "    }\n",
       "\n",
       "    .dataframe thead th {\n",
       "        text-align: right;\n",
       "    }\n",
       "</style>\n",
       "<table border=\"1\" class=\"dataframe\">\n",
       "  <thead>\n",
       "    <tr style=\"text-align: right;\">\n",
       "      <th></th>\n",
       "      <th>Smart Thermostat</th>\n",
       "      <th>Smart Light</th>\n",
       "    </tr>\n",
       "    <tr>\n",
       "      <th>Satisfaction</th>\n",
       "      <th></th>\n",
       "      <th></th>\n",
       "    </tr>\n",
       "  </thead>\n",
       "  <tbody>\n",
       "    <tr>\n",
       "      <th>very satisfied</th>\n",
       "      <td>50</td>\n",
       "      <td>70</td>\n",
       "    </tr>\n",
       "    <tr>\n",
       "      <th>satisfied</th>\n",
       "      <td>80</td>\n",
       "      <td>100</td>\n",
       "    </tr>\n",
       "    <tr>\n",
       "      <th>neutral</th>\n",
       "      <td>60</td>\n",
       "      <td>90</td>\n",
       "    </tr>\n",
       "    <tr>\n",
       "      <th>unsatisfied</th>\n",
       "      <td>30</td>\n",
       "      <td>50</td>\n",
       "    </tr>\n",
       "    <tr>\n",
       "      <th>very unsatisfied</th>\n",
       "      <td>20</td>\n",
       "      <td>50</td>\n",
       "    </tr>\n",
       "  </tbody>\n",
       "</table>\n",
       "</div>"
      ],
      "text/plain": [
       "                  Smart Thermostat  Smart Light\n",
       "Satisfaction                                   \n",
       "very satisfied                  50           70\n",
       "satisfied                       80          100\n",
       "neutral                         60           90\n",
       "unsatisfied                     30           50\n",
       "very unsatisfied                20           50"
      ]
     },
     "execution_count": 64,
     "metadata": {},
     "output_type": "execute_result"
    }
   ],
   "source": [
    "df"
   ]
  },
  {
   "cell_type": "markdown",
   "id": "224e9e09-d50c-4f18-a0bd-717d8ebcd25a",
   "metadata": {},
   "source": [
    "# 1.Hypothesis"
   ]
  },
  {
   "cell_type": "code",
   "execution_count": 36,
   "id": "36e320b8-d249-4086-a9fe-744578aafbdf",
   "metadata": {},
   "outputs": [],
   "source": [
    "#Ho(Null hyothesis):there is no a significant association between the type of smart home device purchased and the customer satisfaction level.\n",
    "#Ha(Alternative hypothesis):there is  a significant association between the type of smart home device purchased  and the customer satisfaction level."
   ]
  },
  {
   "cell_type": "markdown",
   "id": "1bf64511-bc0f-46cf-b4c0-82dd47c64d4e",
   "metadata": {},
   "source": [
    "# 2.Chi-Square Statistic:"
   ]
  },
  {
   "cell_type": "code",
   "execution_count": 31,
   "id": "c6593adf-9d14-46e6-b6ff-90c498a3a0a6",
   "metadata": {},
   "outputs": [],
   "source": [
    "import scipy.stats as stats"
   ]
  },
  {
   "cell_type": "code",
   "execution_count": 11,
   "id": "a75d2799-81be-4a6a-a8e6-c36b1809f071",
   "metadata": {},
   "outputs": [
    {
     "data": {
      "text/plain": [
       "(5.638227513227513,\n",
       " 0.22784371130697179,\n",
       " 4,\n",
       " array([[ 48.,  72.],\n",
       "        [ 72., 108.],\n",
       "        [ 60.,  90.],\n",
       "        [ 32.,  48.],\n",
       "        [ 28.,  42.]]))"
      ]
     },
     "execution_count": 11,
     "metadata": {},
     "output_type": "execute_result"
    }
   ],
   "source": [
    "stats.chi2_contingency(df) "
   ]
  },
  {
   "cell_type": "code",
   "execution_count": null,
   "id": "2c6f441a-e30b-4019-8a7b-a0eadae4e571",
   "metadata": {},
   "outputs": [],
   "source": [
    "#therfore Chi_square_statistic= 5.63  and degree of freedom=4"
   ]
  },
  {
   "cell_type": "markdown",
   "id": "acc7d31a-f336-48c1-abc0-42d2d8cee95a",
   "metadata": {},
   "source": [
    "# Expected value array=\n",
    "        ([[ 48.,  72.],\n",
    "        [ 72., 108.],\n",
    "        [ 60.,  90.],\n",
    "        [ 32.,  48.],\n",
    "        [ 28.,  42.]]))"
   ]
  },
  {
   "cell_type": "markdown",
   "id": "dfd518dc-6270-4ef0-835f-816ce5a5d267",
   "metadata": {},
   "source": [
    "# 3. Critical Value"
   ]
  },
  {
   "cell_type": "code",
   "execution_count": 43,
   "id": "f2ca34aa-557b-4b7e-a0f8-e849ac8eb5b2",
   "metadata": {},
   "outputs": [],
   "source": [
    "chi_square_critical= stats.chi2.ppf(0.95,4)     # 1-0.05=0.95, 5-1=4"
   ]
  },
  {
   "cell_type": "code",
   "execution_count": 45,
   "id": "9ea226ff-e948-4b38-8c72-01008cf895a4",
   "metadata": {},
   "outputs": [
    {
     "data": {
      "text/plain": [
       "9.487729036781154"
      ]
     },
     "execution_count": 45,
     "metadata": {},
     "output_type": "execute_result"
    }
   ],
   "source": [
    "chi_square_critical"
   ]
  },
  {
   "cell_type": "markdown",
   "id": "551aaa76-ad00-46f5-bea5-4791e69cdb5a",
   "metadata": {},
   "source": [
    "# 4. Decision"
   ]
  },
  {
   "cell_type": "markdown",
   "id": "88ce12e9-c02b-4021-b786-98c9fa0066a5",
   "metadata": {},
   "source": [
    " chi_sqaure_statitsic value < chi_square_critical= fail to reject null hypothesis.\n",
    " \n",
    " therefore,there is no a significant association between the type of smart home device purchased and   the customer satisfaction level."
   ]
  },
  {
   "cell_type": "code",
   "execution_count": null,
   "id": "d836f49b-994c-4329-a356-5ae7df2bd2d8",
   "metadata": {},
   "outputs": [],
   "source": []
  }
 ],
 "metadata": {
  "kernelspec": {
   "display_name": "Python 3 (ipykernel)",
   "language": "python",
   "name": "python3"
  },
  "language_info": {
   "codemirror_mode": {
    "name": "ipython",
    "version": 3
   },
   "file_extension": ".py",
   "mimetype": "text/x-python",
   "name": "python",
   "nbconvert_exporter": "python",
   "pygments_lexer": "ipython3",
   "version": "3.9.20"
  }
 },
 "nbformat": 4,
 "nbformat_minor": 5
}
